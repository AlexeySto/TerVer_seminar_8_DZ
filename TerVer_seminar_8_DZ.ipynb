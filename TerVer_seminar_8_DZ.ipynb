{
  "nbformat": 4,
  "nbformat_minor": 0,
  "metadata": {
    "colab": {
      "provenance": [],
      "authorship_tag": "ABX9TyNFN9CKiUkD01b6eH+OYhCz",
      "include_colab_link": true
    },
    "kernelspec": {
      "name": "python3",
      "display_name": "Python 3"
    },
    "language_info": {
      "name": "python"
    }
  },
  "cells": [
    {
      "cell_type": "markdown",
      "metadata": {
        "id": "view-in-github",
        "colab_type": "text"
      },
      "source": [
        "<a href=\"https://colab.research.google.com/github/AlexeySto/TerVer_seminar_8_DZ/blob/main/TerVer_seminar_8_DZ.ipynb\" target=\"_parent\"><img src=\"https://colab.research.google.com/assets/colab-badge.svg\" alt=\"Open In Colab\"/></a>"
      ]
    },
    {
      "cell_type": "markdown",
      "source": [
        "1. Даны значения величины заработной платы заемщиков банка (zp) и значения их поведенческого кредитного скоринга (ks): zp = [35, 45, 190, 200, 40, 70, 54, 150, 120, 110], ks = [401, 574, 874, 919, 459, 739, 653, 902, 746, 832]. Найдите ковариацию этих двух величин с помощью элементарных действий, а затем с помощью функции cov из numpy Полученные значения должны быть равны. Найдите коэффициент корреляции Пирсона с помощью ковариации и среднеквадратичных отклонений двух признаков, а затем с использованием функций из библиотек numpy и pandas."
      ],
      "metadata": {
        "id": "dDxqtxx-5ZcQ"
      }
    },
    {
      "cell_type": "code",
      "execution_count": 8,
      "metadata": {
        "colab": {
          "base_uri": "https://localhost:8080/"
        },
        "id": "qSReHx3n5WVO",
        "outputId": "e96779fa-86a8-4cb5-bd69-715a322fab21"
      },
      "outputs": [
        {
          "output_type": "stream",
          "name": "stdout",
          "text": [
            "Ковариация с помощью элементарных действий: 9157.84\n",
            "Ковариация с помощью функции cov из numpy: 9157.84\n",
            "Коэффициент корреляции Пирсона: 0.8874900920739162\n",
            "Коэффициент корреляции Пирсона с использованием np.corrcoef: 0.8874900920739162\n",
            "Коэффициент корреляции Пирсона с использованием pandas: 0.8874900920739162\n"
          ]
        }
      ],
      "source": [
        "import numpy as np\n",
        "import pandas as pd\n",
        "\n",
        "# Зарплата и кредитный скоринг\n",
        "zp = np.array([35, 45, 190, 200, 40, 70, 54, 150, 120, 110])\n",
        "ks = np.array([401, 574, 874, 919, 459, 739, 653, 902, 746, 832])\n",
        "\n",
        "# Ковариация с помощью элементарных действий\n",
        "mean_zp = np.mean(zp)\n",
        "mean_ks = np.mean(ks)\n",
        "covariance = np.mean((zp - mean_zp) * (ks - mean_ks))\n",
        "\n",
        "print(f'Ковариация с помощью элементарных действий: {covariance}')\n",
        "\n",
        "# Ковариация с помощью функции cov из numpy\n",
        "covariance_1 = np.cov(ks, zp, ddof = 0)[0][1]\n",
        "\n",
        "print(f'Ковариация с помощью функции cov из numpy: {covariance_1}')\n",
        "\n",
        "# Коэффициент корреляции Пирсона\n",
        "std_zp = np.std(zp)\n",
        "std_ks = np.std(ks)\n",
        "corr = covariance / (std_zp * std_ks)\n",
        "\n",
        "print(f'Коэффициент корреляции Пирсона: {corr}')\n",
        "\n",
        "# Использование numpy и pandas для коэффициента корреляции\n",
        "corr_np = np.corrcoef(zp, ks)[0][1]\n",
        "\n",
        "df = pd.DataFrame({'zp': zp, 'ks': ks})\n",
        "corr_pd = df['zp'].corr(df['ks'])\n",
        "\n",
        "print(f'Коэффициент корреляции Пирсона с использованием np.corrcoef: {corr_np}')\n",
        "print(f'Коэффициент корреляции Пирсона с использованием pandas: {corr_pd}')\n"
      ]
    },
    {
      "cell_type": "markdown",
      "source": [
        "2. Измерены значения IQ выборки студентов, обучающихся в местных технических вузах: 131, 125, 115, 122, 131, 115, 107, 99, 125, 111. Известно, что в генеральной совокупности IQ распределен нормально. Найдите доверительный интервал для математического ожидания с надежностью 0.95."
      ],
      "metadata": {
        "id": "h6bYiLVUNDKL"
      }
    },
    {
      "cell_type": "code",
      "source": [
        "import numpy as np\n",
        "from scipy import stats\n",
        "\n",
        "# Заданные данные\n",
        "data = np.array([131, 125, 115, 122, 131, 115, 107, 99, 125, 111])\n",
        "confidence_level = 0.95\n",
        "\n",
        "# Находим параметры\n",
        "n = len(data)\n",
        "mean = np.mean(data)\n",
        "std_dev = np.std(data, ddof=1)  # Учитываем, что это выборка, поэтому ddof=1\n",
        "\n",
        "# Находим значение t-критерия\n",
        "t_value = stats.t.ppf((1 + confidence_level) / 2, df=n-1)\n",
        "\n",
        "# Находим стандартную ошибку\n",
        "standard_error = std_dev / np.sqrt(n)\n",
        "\n",
        "# Находим доверительный интервал\n",
        "margin_of_error = t_value * standard_error\n",
        "lower_bound = mean - margin_of_error\n",
        "upper_bound = mean + margin_of_error\n",
        "\n",
        "print(\"Доверительный интервал для математического ожидания с надежностью 0.95: ({:.2f}, {:.2f})\".format(lower_bound, upper_bound))\n"
      ],
      "metadata": {
        "colab": {
          "base_uri": "https://localhost:8080/"
        },
        "id": "OC6KgNzpNQDZ",
        "outputId": "6af45466-b057-49eb-f7c6-b52ee1db94ec"
      },
      "execution_count": 9,
      "outputs": [
        {
          "output_type": "stream",
          "name": "stdout",
          "text": [
            "Доверительный интервал для математического ожидания с надежностью 0.95: (110.56, 125.64)\n"
          ]
        }
      ]
    },
    {
      "cell_type": "markdown",
      "source": [
        "3. Известно, что рост футболистов в сборной распределен нормально с дисперсией генеральной совокупности, равной 25 кв.см. Объем выборки равен 27, среднее выборочное составляет 174.2. Найдите доверительный интервал для математического ожидания с надежностью 0.95."
      ],
      "metadata": {
        "id": "IWpmqjL4OSSj"
      }
    },
    {
      "cell_type": "code",
      "source": [
        "import numpy as np\n",
        "from scipy import stats\n",
        "\n",
        "# Заданные данные\n",
        "D = 25\n",
        "sigma = np.sqrt(D)\n",
        "n = 27\n",
        "mean = 174.2\n",
        "confidence_level = 0.95\n",
        "\n",
        "# Находим значение Z для надежности 0.95\n",
        "z_value = stats.norm.ppf((1 + confidence_level) / 2)\n",
        "\n",
        "# Находим доверительный интервал\n",
        "margin_of_error = z_value * (sigma / np.sqrt(n))\n",
        "lower_bound = mean - margin_of_error\n",
        "upper_bound = mean + margin_of_error\n",
        "\n",
        "print(\"Доверительный интервал для математического ожидания с надежностью 0.95: ({:.2f}, {:.2f})\".format(lower_bound, upper_bound))\n"
      ],
      "metadata": {
        "colab": {
          "base_uri": "https://localhost:8080/"
        },
        "id": "IyRp4VKYOc-5",
        "outputId": "d09cf953-8a1c-48f9-8b13-f21ebc609990"
      },
      "execution_count": 10,
      "outputs": [
        {
          "output_type": "stream",
          "name": "stdout",
          "text": [
            "Доверительный интервал для математического ожидания с надежностью 0.95: (172.31, 176.09)\n"
          ]
        }
      ]
    }
  ]
}